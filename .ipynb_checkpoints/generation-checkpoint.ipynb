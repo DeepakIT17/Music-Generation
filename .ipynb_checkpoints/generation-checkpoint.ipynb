{
 "cells": [
  {
   "cell_type": "code",
   "execution_count": 1,
   "metadata": {},
   "outputs": [],
   "source": [
    "from music21 import converter, instrument, note, chord, stream\n",
    "from keras.models import load_model\n",
    "import numpy as np\n",
    "import pickle\n",
    "import random"
   ]
  },
  {
   "cell_type": "markdown",
   "metadata": {},
   "source": [
    "##Retrieving Notes"
   ]
  },
  {
   "cell_type": "code",
   "execution_count": 2,
   "metadata": {},
   "outputs": [],
   "source": [
    "with open(\"notes\",'rb') as filepath:\n",
    "    notes = pickle.load(filepath)"
   ]
  },
  {
   "cell_type": "markdown",
   "metadata": {},
   "source": [
    "##Mappings"
   ]
  },
  {
   "cell_type": "code",
   "execution_count": 3,
   "metadata": {},
   "outputs": [],
   "source": [
    "pitchnames = sorted(set(notes))\n",
    "element_to_integer = dict((element, num) for num,element in enumerate(pitchnames))\n",
    "integer_to_element = dict((num, element) for num,element in enumerate(pitchnames))"
   ]
  },
  {
   "cell_type": "markdown",
   "metadata": {},
   "source": [
    "##Preprocessing notes"
   ]
  },
  {
   "cell_type": "code",
   "execution_count": 4,
   "metadata": {},
   "outputs": [],
   "source": [
    "test_input = []\n",
    "sequence_length = 100\n",
    "number_of_examples = len(notes)-sequence_length\n",
    "number_of_classes = len(pitchnames) \n",
    "\n",
    "for i in range(number_of_examples):\n",
    "    seq_in = notes[i:i+sequence_length] #list of strings\n",
    "    test_input.append([element_to_integer[s] for s in seq_in])"
   ]
  },
  {
   "cell_type": "markdown",
   "metadata": {},
   "source": [
    "##Load Saved Model"
   ]
  },
  {
   "cell_type": "code",
   "execution_count": 5,
   "metadata": {},
   "outputs": [],
   "source": [
    "model = load_model(\"weights.hdf5\")"
   ]
  },
  {
   "cell_type": "markdown",
   "metadata": {},
   "source": [
    "##Predictions"
   ]
  },
  {
   "cell_type": "code",
   "execution_count": 9,
   "metadata": {},
   "outputs": [],
   "source": [
    "start = np.random.randint(number_of_examples-1)\n",
    "pattern = test_input[start]\n",
    "pattern_output = []\n",
    "\n",
    "for note_index in range(50):\n",
    "    print(note_index)\n",
    "    prediction_input = np.reshape(pattern,(1,len(pattern),1))\n",
    "    prediction_input = prediction_input/float(number_of_classes)\n",
    "    prediction = model.predict(prediction_input,verbose=0)\n",
    "    idx = np.argmax(prediction)\n",
    "    result = integer_to_element[idx]\n",
    "    pattern_output.append(result)\n",
    "    pattern.append(idx)\n",
    "    pattern = pattern[1:]\n",
    "\n"
   ]
  },
  {
   "cell_type": "markdown",
   "metadata": {},
   "source": [
    "##Creating MIDI FILE from prediction"
   ]
  },
  {
   "cell_type": "code",
   "execution_count": 14,
   "metadata": {},
   "outputs": [
    {
     "data": {
      "text/plain": [
       "'test_output.mid'"
      ]
     },
     "execution_count": 14,
     "metadata": {},
     "output_type": "execute_result"
    }
   ],
   "source": [
    "offset =0\n",
    "output_notes = []\n",
    "\n",
    "for pattern in pattern_output:\n",
    "    if ('+' in pattern) or pattern.isdigit():\n",
    "        notes_in_chord = pattern.split('+')\n",
    "        temp_notes = []\n",
    "        for current_note in notes_in_chord:\n",
    "            new_note = note.Note(int(current_note))\n",
    "            new_note.storedInstrument = instrument.Piano()\n",
    "            temp_notes.append(new_note)\n",
    "        new_chord = chord.Chord(temp_notes)\n",
    "        new_chord.offset = offset\n",
    "        output_notes.append(new_chord)\n",
    "    else :\n",
    "        new_note = note.Note(pattern)\n",
    "        new_note.storedInstrument = instrument.Piano()\n",
    "        new_note.offset = offset\n",
    "        output_notes.append(new_note)\n",
    "    offset+=random.random();\n",
    "\n",
    "midi_stream = stream.Stream(output_notes)\n",
    "midi_stream.write('midi',fp=\"test_output3.mid\")\n",
    "    "
   ]
  },
  {
   "cell_type": "code",
   "execution_count": 15,
   "metadata": {},
   "outputs": [
    {
     "data": {
      "text/html": [
       "\n",
       "                <div id='midiPlayerDiv4003'></div>\n",
       "                <link rel=\"stylesheet\" href=\"//cuthbertLab.github.io/music21j/css/m21.css\"\n",
       "                    type=\"text/css\" />\n",
       "                <script>\n",
       "                require.config({\n",
       "                    paths: {'music21': '//cuthbertLab.github.io/music21j/src/music21'}\n",
       "                });\n",
       "                require(['music21'], function() {\n",
       "                               mp = new music21.miditools.MidiPlayer();\n",
       "                               mp.addPlayer('#midiPlayerDiv4003');\n",
       "                               mp.base64Load('data:audio/midi;base64,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');\n",
       "                        });\n",
       "                </script>"
      ],
      "text/plain": [
       "<IPython.core.display.HTML object>"
      ]
     },
     "metadata": {},
     "output_type": "display_data"
    }
   ],
   "source": [
    "midi_stream.show('midi')"
   ]
  },
  {
   "cell_type": "code",
   "execution_count": null,
   "metadata": {},
   "outputs": [],
   "source": []
  }
 ],
 "metadata": {
  "kernelspec": {
   "display_name": "Python 3",
   "language": "python",
   "name": "python3"
  },
  "language_info": {
   "codemirror_mode": {
    "name": "ipython",
    "version": 3
   },
   "file_extension": ".py",
   "mimetype": "text/x-python",
   "name": "python",
   "nbconvert_exporter": "python",
   "pygments_lexer": "ipython3",
   "version": "3.6.7"
  }
 },
 "nbformat": 4,
 "nbformat_minor": 4
}
