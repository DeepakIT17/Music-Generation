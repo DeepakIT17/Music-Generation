{
 "cells": [
  {
   "cell_type": "code",
   "execution_count": 1,
   "metadata": {},
   "outputs": [],
   "source": [
    "from music21 import converter, instrument, note, chord, stream\n",
    "from keras.models import load_model\n",
    "import numpy as np\n",
    "import pickle\n",
    "import random"
   ]
  },
  {
   "cell_type": "markdown",
   "metadata": {},
   "source": [
    "##Retrieving Notes"
   ]
  },
  {
   "cell_type": "code",
   "execution_count": 2,
   "metadata": {},
   "outputs": [],
   "source": [
    "with open(\"notes\",'rb') as filepath:\n",
    "    notes = pickle.load(filepath)"
   ]
  },
  {
   "cell_type": "markdown",
   "metadata": {},
   "source": [
    "##Mappings"
   ]
  },
  {
   "cell_type": "code",
   "execution_count": 3,
   "metadata": {},
   "outputs": [],
   "source": [
    "pitchnames = sorted(set(notes))\n",
    "element_to_integer = dict((element, num) for num,element in enumerate(pitchnames))\n",
    "integer_to_element = dict((num, element) for num,element in enumerate(pitchnames))"
   ]
  },
  {
   "cell_type": "markdown",
   "metadata": {},
   "source": [
    "##Preprocessing notes"
   ]
  },
  {
   "cell_type": "code",
   "execution_count": 4,
   "metadata": {},
   "outputs": [],
   "source": [
    "test_input = []\n",
    "sequence_length = 100\n",
    "number_of_examples = len(notes)-sequence_length\n",
    "number_of_classes = len(pitchnames) \n",
    "\n",
    "for i in range(number_of_examples):\n",
    "    seq_in = notes[i:i+sequence_length] #list of strings\n",
    "    test_input.append([element_to_integer[s] for s in seq_in])"
   ]
  },
  {
   "cell_type": "markdown",
   "metadata": {},
   "source": [
    "##Load Saved Model"
   ]
  },
  {
   "cell_type": "code",
   "execution_count": 5,
   "metadata": {},
   "outputs": [],
   "source": [
    "model = load_model(\"weights.hdf5\")"
   ]
  },
  {
   "cell_type": "markdown",
   "metadata": {},
   "source": [
    "##Predictions"
   ]
  },
  {
   "cell_type": "code",
   "execution_count": 6,
   "metadata": {},
   "outputs": [
    {
     "name": "stdout",
     "output_type": "stream",
     "text": [
      "0\n",
      "1\n",
      "2\n",
      "3\n",
      "4\n",
      "5\n",
      "6\n",
      "7\n",
      "8\n",
      "9\n",
      "10\n",
      "11\n",
      "12\n",
      "13\n",
      "14\n",
      "15\n",
      "16\n",
      "17\n",
      "18\n",
      "19\n",
      "20\n",
      "21\n",
      "22\n",
      "23\n",
      "24\n",
      "25\n",
      "26\n",
      "27\n",
      "28\n",
      "29\n",
      "30\n",
      "31\n",
      "32\n",
      "33\n",
      "34\n",
      "35\n",
      "36\n",
      "37\n",
      "38\n",
      "39\n",
      "40\n",
      "41\n",
      "42\n",
      "43\n",
      "44\n",
      "45\n",
      "46\n",
      "47\n",
      "48\n",
      "49\n"
     ]
    }
   ],
   "source": [
    "start = np.random.randint(number_of_examples-1)\n",
    "pattern = test_input[start]\n",
    "pattern_output = []\n",
    "\n",
    "for note_index in range(50):\n",
    "    print(note_index)\n",
    "    prediction_input = np.reshape(pattern,(1,len(pattern),1))\n",
    "    prediction_input = prediction_input/float(number_of_classes)\n",
    "    prediction = model.predict(prediction_input,verbose=0)\n",
    "    idx = np.argmax(prediction)\n",
    "    result = integer_to_element[idx]\n",
    "    pattern_output.append(result)\n",
    "    pattern.append(idx)\n",
    "    pattern = pattern[1:]\n",
    "\n"
   ]
  },
  {
   "cell_type": "markdown",
   "metadata": {},
   "source": [
    "##Creating MIDI FILE from prediction"
   ]
  },
  {
   "cell_type": "code",
   "execution_count": 7,
   "metadata": {},
   "outputs": [
    {
     "data": {
      "text/plain": [
       "'test_output3.mid'"
      ]
     },
     "execution_count": 7,
     "metadata": {},
     "output_type": "execute_result"
    }
   ],
   "source": [
    "offset =0\n",
    "output_notes = []\n",
    "\n",
    "for pattern in pattern_output:\n",
    "    if ('+' in pattern) or pattern.isdigit():\n",
    "        notes_in_chord = pattern.split('+')\n",
    "        temp_notes = []\n",
    "        for current_note in notes_in_chord:\n",
    "            new_note = note.Note(int(current_note))\n",
    "            new_note.storedInstrument = instrument.Piano()\n",
    "            temp_notes.append(new_note)\n",
    "        new_chord = chord.Chord(temp_notes)\n",
    "        new_chord.offset = offset\n",
    "        output_notes.append(new_chord)\n",
    "    else :\n",
    "        new_note = note.Note(pattern)\n",
    "        new_note.storedInstrument = instrument.Piano()\n",
    "        new_note.offset = offset\n",
    "        output_notes.append(new_note)\n",
    "    offset+=random.random();\n",
    "\n",
    "midi_stream = stream.Stream(output_notes)\n",
    "midi_stream.write('midi',fp=\"test_output3.mid\")\n",
    "    "
   ]
  },
  {
   "cell_type": "code",
   "execution_count": 8,
   "metadata": {},
   "outputs": [
    {
     "data": {
      "text/html": [
       "\n",
       "                <div id='midiPlayerDiv650'></div>\n",
       "                <link rel=\"stylesheet\" href=\"//cuthbertLab.github.io/music21j/css/m21.css\"\n",
       "                    type=\"text/css\" />\n",
       "                <script>\n",
       "                require.config({\n",
       "                    paths: {'music21': '//cuthbertLab.github.io/music21j/src/music21'}\n",
       "                });\n",
       "                require(['music21'], function() {\n",
       "                               mp = new music21.miditools.MidiPlayer();\n",
       "                               mp.addPlayer('#midiPlayerDiv650');\n",
       "                               mp.base64Load('data:audio/midi;base64,TVRoZAAAAAYAAQABBABNVHJrAAAFagD/AwAA4ABAAJBFWgCQPFoAkD9agxKQPVoAkD9aAJBBWoIskENaAJBHWgCQPlogkEZaAJA9WgCQP1oAkEJac5A9WgCQP1oAkEFagS+ARQAAgDwAAIA/AAOQPVoAkD9aAJBBWoMPgD0AAIA/AACAQQCBQJBDWgCQRFpsgEMAAIBHAACAPgAggEYAAIA9AACAPwAAgEIAc4A9AACAPwAAgEEAgTKAPQAAgD8AAIBBADmQPVoAkD9aAJBBWjqQRVoAkDxaAJA/WoNcgEMAAIBEAIEokD1aAJA/WgCQQVqCQoA9AACAPwAAgEEAHZBEWgCQRVoAkD1aAJBAWh2ARQAAgDwAAIA/AIUEgD0AAIA/AACAQQCBHpBFWgCQR1oAkD1aBJBFWgCQR1oAkD5aAJBAWoE9gEQAAIBFAACAPQAAgEAAg3iQRFoAkEVaAJA+WjCQRFoAkDxaAJA9WoIXgEUAAIBHAACAPQAEgEUAAIBHAACAPgAAgEAAhCiQPVoAkD9aAJBDWjSQQ1oAkERaAJA8WlmARAAAgEUAAIA+ADCARAAAgDwAAIA9ACOQRFoAkEVaAJA9WgCQQFqGIIA9AACAPwAAgEMANIBDAACARAAAgDwAgRiQQFoAkEJaAJBGWhSARAAAgEUAAIA9AACAQACFR5BEWgCQRVoAkD5agiWAQAAAgEIAAIBGAIUOkD1aAJA/WgCQQ1pNgEQAAIBFAACAPgCFD5BEWgCQRVoAkD1aAJBAWoIkgD0AAIA/AACAQwA5kERaAJBFWgCQPVoAkEBagk2QQFoAkEJaAJBGWhCQRFoAkEVaAJA+WoJGgEQAAIBFAACAPQAAgEAAN5A9WgCQP1oAkENagiaARAAAgEUAAIA9AACAQACBHJBEWgCQRVoAkD5agTGAQAAAgEIAAIBGABCARAAAgEUAAIA+AIJ9gD0AAIA/AACAQwCCc5BEWgCQRVoAkD1aAJBAWk+ARAAAgEUAAIA+AHGQQFoAkEFaAJBFWgCQPFqGBJBEWgCQRVoAkD5aPIBEAACARQAAgD0AAIBAAIFAgEAAAIBBAACARQAAgDwAg1+QR1oAkD5aAJBAWgCQQ1qCJYBEAACARQAAgD4AgS6QRFoAkEVaAJA+WoJBkERaAJA8WgCQPVoNkEBaAJBBWgCQRVoAkDxagV+ARwAAgD4AAIBAAACAQwCDRZBEWgCQRVoAkD5aDoBEAACARQAAgD4AgkGARAAAgDwAAIA9AA2AQAAAgEEAAIBFAACAPACCRJBHWgCQPloAkEBaAJBDWoE1kERaAJBFWgCQPlpIkERaAJA8WgCQPVpjgEQAAIBFAACAPgCDAZBAWgCQQVoAkEVaAJA8WkqQRFoAkEVaAJA+WoFVgEcAAIA+AACAQAAAgEMAgTWARAAAgEUAAIA+AB2QR1oAkD5aAJBAWgCQQ1orgEQAAIA8AACAPQAYkERaAJBFWgCQPlp6kERaAJA8WgCQPVqBC5BAWgCQQVoAkEVaAJA8WjGQRFoAkEVaAJA+WoEWgEAAAIBBAACARQAAgDwASoBEAACARQAAgD4AFJBHWgCQPloAkEBaAJBDWoMTgEcAAIA+AACAQAAAgEMALpBDWgCQRFoAkDxaFYBEAACARQAAgD4AeoBEAACAPAAAgD0AgQuAQAAAgEEAAIBFAACAPAAxgEQAAIBFAACAPgCBdIBHAACAPgAAgEAAAIBDAIMbkERaAJBFWgCQPVoAkEBaJoBDAACARAAAgDwAg26QRFoAkDxaAJA+WoNVkEdaAJA+WgCQQloXgEQAAIBFAACAPQAAgEAAhBSARAAAgDwAAIA+AINVgEcAAIA+AACAQgCIAP8vAA==');\n",
       "                        });\n",
       "                </script>"
      ],
      "text/plain": [
       "<IPython.core.display.HTML object>"
      ]
     },
     "metadata": {},
     "output_type": "display_data"
    }
   ],
   "source": [
    "midi_stream.show('midi')"
   ]
  },
  {
   "cell_type": "code",
   "execution_count": null,
   "metadata": {},
   "outputs": [],
   "source": []
  }
 ],
 "metadata": {
  "kernelspec": {
   "display_name": "Python 3",
   "language": "python",
   "name": "python3"
  },
  "language_info": {
   "codemirror_mode": {
    "name": "ipython",
    "version": 3
   },
   "file_extension": ".py",
   "mimetype": "text/x-python",
   "name": "python",
   "nbconvert_exporter": "python",
   "pygments_lexer": "ipython3",
   "version": "3.6.7"
  }
 },
 "nbformat": 4,
 "nbformat_minor": 4
}
